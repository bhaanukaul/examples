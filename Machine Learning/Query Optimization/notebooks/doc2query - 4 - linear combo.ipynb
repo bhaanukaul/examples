{
 "cells": [
  {
   "cell_type": "markdown",
   "metadata": {},
   "source": [
    "# Tuning a `multi_match` `best_fields` query"
   ]
  },
  {
   "cell_type": "code",
   "execution_count": null,
   "metadata": {},
   "outputs": [],
   "source": [
    "%load_ext autoreload\n",
    "%autoreload 2"
   ]
  },
  {
   "cell_type": "code",
   "execution_count": null,
   "metadata": {},
   "outputs": [],
   "source": [
    "import importlib\n",
    "import os\n",
    "import sys\n",
    "\n",
    "from copy import deepcopy\n",
    "from elasticsearch import Elasticsearch\n",
    "from skopt.plots import plot_objective"
   ]
  },
  {
   "cell_type": "code",
   "execution_count": null,
   "metadata": {},
   "outputs": [],
   "source": [
    "# project library\n",
    "sys.path.insert(0, os.path.abspath('..'))\n",
    "\n",
    "import qopt\n",
    "importlib.reload(qopt)\n",
    "\n",
    "from qopt.notebooks import evaluate_mrr100_dev_templated, optimize_query_mrr100_templated\n",
    "from qopt.optimize import Config"
   ]
  },
  {
   "cell_type": "code",
   "execution_count": null,
   "metadata": {},
   "outputs": [],
   "source": [
    "# use a local Elasticsearch or Cloud instance (https://cloud.elastic.co/)\n",
    "# es = Elasticsearch('http://localhost:9200')\n",
    "es = Elasticsearch('http://35.246.228.72:9200')\n",
    "\n",
    "# set the parallelization parameter `max_concurrent_searches` for the Rank Evaluation API calls\n",
    "max_concurrent_searches = 30\n",
    "\n",
    "index = 'msmarco-document.doc2query'\n",
    "template_id = 'query'\n",
    "\n",
    "# set best BM25 params\n",
    "set_bm25_params(es, index, [\n",
    "    ('url', {'k1': 0.2835389588290694, 'b': 0.8307098387153782}),\n",
    "    ('title', {'k1': 0.3477150744985997, 'b': 0.6174817900867441}),\n",
    "    ('title.bigrams', {'k1': 1.2, 'b': 0.75}),\n",
    "    ('body', {'k1': 3.0128735487205525, 'b': 0.8200709176657588}),\n",
    "    ('body.bigrams', {'k1': 1.9241932055770454, 'b': 0.7257382745572979}),\n",
    "    ('expansions', {'k1': 4.870954366799399, 'b': 0.9249613913608172}),\n",
    "    ('expansions.bigrams', {'k1': 1.2, 'b': 0.75})\n",
    "])\n",
    "\n",
    "# base template for tuning\n",
    "base_templates = [{\n",
    "    \"id\": template_id,\n",
    "    \"template\": {\n",
    "        \"lang\": \"mustache\",\n",
    "        \"source\": { \"query\": {} }\n",
    "    }\n",
    "}]\n",
    "\n",
    "def match_query(name):\n",
    "    return {\n",
    "        \"match\": {\n",
    "            name: {\n",
    "                \"query\": \"{{query_string}}\",\n",
    "                \"boost\": \"{{\" + name.replace('.', '_') + \"|boost}}\",\n",
    "            },\n",
    "        },\n",
    "    }"
   ]
  },
  {
   "cell_type": "markdown",
   "metadata": {},
   "source": [
    "## Experiments"
   ]
  },
  {
   "cell_type": "markdown",
   "metadata": {},
   "source": [
    "### Base fields"
   ]
  },
  {
   "cell_type": "code",
   "execution_count": null,
   "metadata": {},
   "outputs": [],
   "source": [
    "_field_names = [\n",
    "    'url',\n",
    "    'title',\n",
    "    'body',\n",
    "]\n",
    "_templates = deepcopy(base_templates)\n",
    "_match_queries = [match_query(x) for x in _field_names]\n",
    "_templates[0]['template']['source']['query']['bool'] = { 'should': _match_queries }"
   ]
  },
  {
   "cell_type": "code",
   "execution_count": null,
   "metadata": {},
   "outputs": [],
   "source": [
    "%%time\n",
    "\n",
    "_ = evaluate_mrr100_dev_templated(es, max_concurrent_searches, index, _templates, template_id, params={\n",
    "    'url|boost': 1.0,\n",
    "    'title|boost': 1.0,\n",
    "    'body|boost': 1.0,\n",
    "})"
   ]
  },
  {
   "cell_type": "code",
   "execution_count": null,
   "metadata": {},
   "outputs": [],
   "source": [
    "%%time\n",
    "\n",
    "_, _, final_params, metadata = optimize_query_mrr100_templated(es, max_concurrent_searches, index, _templates, template_id,\n",
    "    config_space=Config.parse({\n",
    "        'method': 'bayesian',\n",
    "        'num_iterations': 50,\n",
    "        'num_initial_points': 20,\n",
    "        'space': {\n",
    "            'url|boost': { 'low': 0.0, 'high': 10.0 },\n",
    "            'title|boost': { 'low': 0.0, 'high': 10.0 },\n",
    "            'body|boost': { 'low': 0.0, 'high': 10.0 },\n",
    "        }\n",
    "    }))"
   ]
  },
  {
   "cell_type": "code",
   "execution_count": null,
   "metadata": {},
   "outputs": [],
   "source": [
    "_ = plot_objective(metadata, sample_source='result')"
   ]
  },
  {
   "cell_type": "code",
   "execution_count": null,
   "metadata": {},
   "outputs": [],
   "source": [
    "%%time\n",
    "\n",
    "_ = evaluate_mrr100_dev_templated(es, max_concurrent_searches, index, _templates, template_id, params=final_params)"
   ]
  },
  {
   "cell_type": "code",
   "execution_count": null,
   "metadata": {},
   "outputs": [],
   "source": [
    "final_params"
   ]
  },
  {
   "cell_type": "markdown",
   "metadata": {},
   "source": [
    "### Base fields + bigrams"
   ]
  },
  {
   "cell_type": "code",
   "execution_count": null,
   "metadata": {},
   "outputs": [],
   "source": [
    "_field_names = [\n",
    "    'url',\n",
    "    'title', 'title.bigrams',\n",
    "    'body', 'body.bigrams',\n",
    "]\n",
    "_templates = deepcopy(base_templates)\n",
    "_match_queries = [match_query(x) for x in _field_names]\n",
    "_templates[0]['template']['source']['query']['bool'] = { 'should': _match_queries }"
   ]
  },
  {
   "cell_type": "code",
   "execution_count": null,
   "metadata": {},
   "outputs": [],
   "source": [
    "%%time\n",
    "\n",
    "_ = evaluate_mrr100_dev_templated(es, max_concurrent_searches, index, _templates, template_id, params={\n",
    "    'url|boost': 1.0,\n",
    "    'title|boost': 1.0,\n",
    "    'title_bigrams|boost': 1.0,\n",
    "    'body|boost': 1.0,\n",
    "    'body_bigrams|boost': 1.0,\n",
    "})"
   ]
  },
  {
   "cell_type": "code",
   "execution_count": null,
   "metadata": {},
   "outputs": [],
   "source": [
    "%%time\n",
    "\n",
    "_, _, final_params, metadata = optimize_query_mrr100_templated(es, max_concurrent_searches, index, _templates, template_id,\n",
    "    config_space=Config.parse({\n",
    "        'method': 'bayesian',\n",
    "        'num_iterations': 50,\n",
    "        'num_initial_points': 20,\n",
    "        'space': {\n",
    "            'url|boost': { 'low': 0.0, 'high': 10.0 },\n",
    "            'title|boost': { 'low': 0.0, 'high': 10.0 },\n",
    "            'title_bigrams|boost': { 'low': 0.0, 'high': 10.0 },\n",
    "            'body|boost': { 'low': 0.0, 'high': 10.0 },\n",
    "            'body_bigrams|boost': { 'low': 0.0, 'high': 10.0 },\n",
    "        }\n",
    "    }))"
   ]
  },
  {
   "cell_type": "code",
   "execution_count": null,
   "metadata": {},
   "outputs": [],
   "source": [
    "_ = plot_objective(metadata, sample_source='result')"
   ]
  },
  {
   "cell_type": "code",
   "execution_count": null,
   "metadata": {},
   "outputs": [],
   "source": [
    "%%time\n",
    "\n",
    "_ = evaluate_mrr100_dev_templated(es, max_concurrent_searches, index, _templates, template_id, params=final_params)"
   ]
  },
  {
   "cell_type": "code",
   "execution_count": null,
   "metadata": {},
   "outputs": [],
   "source": [
    "final_params"
   ]
  },
  {
   "cell_type": "markdown",
   "metadata": {},
   "source": [
    "### Base fields + expansions"
   ]
  },
  {
   "cell_type": "code",
   "execution_count": null,
   "metadata": {},
   "outputs": [],
   "source": [
    "_field_names = [\n",
    "    'url',\n",
    "    'title',\n",
    "    'body',\n",
    "    'expansions',\n",
    "]\n",
    "_templates = deepcopy(base_templates)\n",
    "_match_queries = [match_query(x) for x in _field_names]\n",
    "_templates[0]['template']['source']['query']['bool'] = { 'should': _match_queries }"
   ]
  },
  {
   "cell_type": "code",
   "execution_count": null,
   "metadata": {},
   "outputs": [],
   "source": [
    "%%time\n",
    "\n",
    "_ = evaluate_mrr100_dev_templated(es, max_concurrent_searches, index, _templates, template_id, params={\n",
    "    'url|boost': 1.0,\n",
    "    'title|boost': 1.0,\n",
    "    'body|boost': 1.0,\n",
    "    'expansions|boost': 1.0,\n",
    "})"
   ]
  },
  {
   "cell_type": "code",
   "execution_count": null,
   "metadata": {},
   "outputs": [],
   "source": [
    "%%time\n",
    "\n",
    "_, _, final_params, metadata = optimize_query_mrr100_templated(es, max_concurrent_searches, index, _templates, template_id,\n",
    "    config_space=Config.parse({\n",
    "        'method': 'bayesian',\n",
    "        'num_iterations': 50,\n",
    "        'num_initial_points': 20,\n",
    "        'space': {\n",
    "            'url|boost': { 'low': 0.0, 'high': 10.0 },\n",
    "            'title|boost': { 'low': 0.0, 'high': 10.0 },\n",
    "            'body|boost': { 'low': 0.0, 'high': 10.0 },\n",
    "            'expansions|boost': { 'low': 0.0, 'high': 10.0 },\n",
    "        }\n",
    "    }))"
   ]
  },
  {
   "cell_type": "code",
   "execution_count": null,
   "metadata": {},
   "outputs": [],
   "source": [
    "_ = plot_objective(metadata, sample_source='result')"
   ]
  },
  {
   "cell_type": "code",
   "execution_count": null,
   "metadata": {},
   "outputs": [],
   "source": [
    "%%time\n",
    "\n",
    "_ = evaluate_mrr100_dev_templated(es, max_concurrent_searches, index, _templates, template_id, params=final_params)"
   ]
  },
  {
   "cell_type": "code",
   "execution_count": null,
   "metadata": {},
   "outputs": [],
   "source": [
    "final_params"
   ]
  },
  {
   "cell_type": "markdown",
   "metadata": {},
   "source": [
    "### Base fields + expansions + bigrams"
   ]
  },
  {
   "cell_type": "code",
   "execution_count": null,
   "metadata": {},
   "outputs": [],
   "source": [
    "_field_names = [\n",
    "    'url',\n",
    "    'title', 'title.bigrams',\n",
    "    'body', 'body.bigrams',\n",
    "    'expansions', 'expansions.bigrams',\n",
    "]\n",
    "_templates = deepcopy(base_templates)\n",
    "_match_queries = [match_query(x) for x in _field_names]\n",
    "_templates[0]['template']['source']['query']['bool'] = { 'should': _match_queries }"
   ]
  },
  {
   "cell_type": "code",
   "execution_count": null,
   "metadata": {},
   "outputs": [],
   "source": [
    "%%time\n",
    "\n",
    "_ = evaluate_mrr100_dev_templated(es, max_concurrent_searches, index, _templates, template_id, params={\n",
    "    'url|boost': 1.0,\n",
    "    'title|boost': 1.0,\n",
    "    'title_bigrams|boost': 1.0,\n",
    "    'body|boost': 1.0,\n",
    "    'body_bigrams|boost': 1.0,\n",
    "    'expansions|boost': 1.0,\n",
    "    'expansions_bigrams|boost': 1.0\n",
    "})"
   ]
  },
  {
   "cell_type": "code",
   "execution_count": null,
   "metadata": {},
   "outputs": [],
   "source": [
    "%%time\n",
    "\n",
    "_, _, final_params, metadata = optimize_query_mrr100_templated(es, max_concurrent_searches, index, _templates, template_id,\n",
    "    config_space=Config.parse({\n",
    "        'method': 'bayesian',\n",
    "        'num_iterations': 50,\n",
    "        'num_initial_points': 20,\n",
    "        'space': {\n",
    "            'url|boost': { 'low': 0.0, 'high': 10.0 },\n",
    "            'title|boost': { 'low': 0.0, 'high': 10.0 },\n",
    "            'title_bigrams|boost': { 'low': 0.0, 'high': 10.0 },\n",
    "            'body|boost': { 'low': 0.0, 'high': 10.0 },\n",
    "            'body_bigrams|boost': { 'low': 0.0, 'high': 10.0 },\n",
    "            'expansions|boost': { 'low': 0.0, 'high': 10.0 },\n",
    "            'expansions_bigrams|boost': { 'low': 0.0, 'high': 10.0 },\n",
    "        }\n",
    "    }))"
   ]
  },
  {
   "cell_type": "code",
   "execution_count": null,
   "metadata": {},
   "outputs": [],
   "source": [
    "_ = plot_objective(metadata, sample_source='result')"
   ]
  },
  {
   "cell_type": "code",
   "execution_count": null,
   "metadata": {},
   "outputs": [],
   "source": [
    "%%time\n",
    "\n",
    "_ = evaluate_mrr100_dev_templated(es, max_concurrent_searches, index, _templates, template_id, params=final_params)"
   ]
  },
  {
   "cell_type": "code",
   "execution_count": null,
   "metadata": {},
   "outputs": [],
   "source": [
    "final_params"
   ]
  },
  {
   "cell_type": "code",
   "execution_count": null,
   "metadata": {},
   "outputs": [],
   "source": [
    "## with 100/20 iterations\n",
    "## 0.3412\n",
    "\n",
    "{\n",
    "    'url|boost': 6.831285778689427,\n",
    "    'title|boost': 0.0,\n",
    "    'title_bigrams|boost': 0.0,\n",
    "    'body|boost': 10.0,\n",
    "    'body_bigrams|boost': 10.0,\n",
    "    'expansions|boost': 10.0,\n",
    "    'expansions_bigrams|boost': 3.348671601852749\n",
    "}"
   ]
  },
  {
   "cell_type": "markdown",
   "metadata": {},
   "source": [
    "### Selective fields\n",
    "\n",
    "Based on the results from above, remove fields with `0` boost values."
   ]
  },
  {
   "cell_type": "code",
   "execution_count": null,
   "metadata": {},
   "outputs": [],
   "source": [
    "_field_names = [\n",
    "    'url',\n",
    "    'body', 'body.bigrams',\n",
    "    'expansions', 'expansions.bigrams',\n",
    "]\n",
    "_templates = deepcopy(base_templates)\n",
    "_match_queries = [match_query(x) for x in _field_names]\n",
    "_templates[0]['template']['source']['query']['bool'] = { 'should': _match_queries }"
   ]
  },
  {
   "cell_type": "code",
   "execution_count": null,
   "metadata": {},
   "outputs": [],
   "source": [
    "%%time\n",
    "\n",
    "_ = evaluate_mrr100_dev_templated(es, max_concurrent_searches, index, _templates, template_id, params={\n",
    "    'url|boost': 1.0,\n",
    "    'body|boost': 1.0,\n",
    "    'body_bigrams|boost': 1.0,\n",
    "    'expansions|boost': 1.0,\n",
    "    'expansions_bigrams|boost': 1.0\n",
    "})"
   ]
  },
  {
   "cell_type": "code",
   "execution_count": null,
   "metadata": {},
   "outputs": [],
   "source": [
    "%%time\n",
    "\n",
    "_, _, final_params, metadata = optimize_query_mrr100_templated(es, max_concurrent_searches, index, _templates, template_id,\n",
    "    config_space=Config.parse({\n",
    "        'method': 'bayesian',\n",
    "        'num_iterations': 50,\n",
    "        'num_initial_points': 20,\n",
    "        'space': {\n",
    "            'url|boost': { 'low': 0.0, 'high': 10.0 },\n",
    "            'body|boost': { 'low': 0.0, 'high': 10.0 },\n",
    "            'body_bigrams|boost': { 'low': 0.0, 'high': 10.0 },\n",
    "            'expansions|boost': { 'low': 0.0, 'high': 10.0 },\n",
    "            'expansions_bigrams|boost': { 'low': 0.0, 'high': 10.0 },\n",
    "        }\n",
    "    }))"
   ]
  },
  {
   "cell_type": "code",
   "execution_count": null,
   "metadata": {},
   "outputs": [],
   "source": [
    "_ = plot_objective(metadata, sample_source='result')"
   ]
  },
  {
   "cell_type": "code",
   "execution_count": null,
   "metadata": {},
   "outputs": [],
   "source": [
    "%%time\n",
    "\n",
    "_ = evaluate_mrr100_dev_templated(es, max_concurrent_searches, index, _templates, template_id, params=final_params)"
   ]
  },
  {
   "cell_type": "code",
   "execution_count": null,
   "metadata": {},
   "outputs": [],
   "source": [
    "final_params"
   ]
  },
  {
   "cell_type": "code",
   "execution_count": null,
   "metadata": {},
   "outputs": [],
   "source": [
    "# with 50/20 iterations\n",
    "# 0.3415\n",
    "\n",
    "{\n",
    "    'url|boost': 5.906335138830406,\n",
    "    'body|boost': 7.285007082865544,\n",
    "    'body_bigrams|boost': 0.1561216257683724,\n",
    "    'expansions|boost': 9.922407448775347,\n",
    "    'expansions_bigrams|boost': 4.5189511755570635\n",
    "}"
   ]
  }
 ],
 "metadata": {
  "kernelspec": {
   "display_name": "Python 3",
   "language": "python",
   "name": "python3"
  },
  "language_info": {
   "codemirror_mode": {
    "name": "ipython",
    "version": 3
   },
   "file_extension": ".py",
   "mimetype": "text/x-python",
   "name": "python",
   "nbconvert_exporter": "python",
   "pygments_lexer": "ipython3",
   "version": "3.7.7"
  }
 },
 "nbformat": 4,
 "nbformat_minor": 4
}
