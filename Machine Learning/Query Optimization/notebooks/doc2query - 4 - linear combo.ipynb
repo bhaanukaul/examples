{
 "cells": [
  {
   "cell_type": "markdown",
   "metadata": {},
   "source": [
    "# Tuning a multi `match` query, linear combination score"
   ]
  },
  {
   "cell_type": "code",
   "execution_count": 1,
   "metadata": {},
   "outputs": [],
   "source": [
    "%load_ext autoreload\n",
    "%autoreload 2"
   ]
  },
  {
   "cell_type": "code",
   "execution_count": 2,
   "metadata": {},
   "outputs": [],
   "source": [
    "import importlib\n",
    "import os\n",
    "import sys\n",
    "\n",
    "from copy import deepcopy\n",
    "from elasticsearch import Elasticsearch\n",
    "from skopt.plots import plot_objective"
   ]
  },
  {
   "cell_type": "code",
   "execution_count": 3,
   "metadata": {},
   "outputs": [],
   "source": [
    "# project library\n",
    "sys.path.insert(0, os.path.abspath('..'))\n",
    "\n",
    "import qopt\n",
    "importlib.reload(qopt)\n",
    "\n",
    "from qopt.notebooks import evaluate_mrr100_dev_templated, optimize_query_mrr100_templated, set_bm25_params\n",
    "from qopt.optimize import Config"
   ]
  },
  {
   "cell_type": "code",
   "execution_count": 4,
   "metadata": {},
   "outputs": [
    {
     "name": "stdout",
     "output_type": "stream",
     "text": [
      "Setting BM25 params fields:\n",
      " - url: {'k1': 0.33066956222950633, 'b': 0.9589101032169087}\n",
      " - title: {'k1': 0.34885436112727763, 'b': 1.0}\n",
      " - title.bigrams: {'k1': 1.2, 'b': 0.75}\n",
      " - body: {'k1': 3.0128735487205525, 'b': 0.8200709176657588}\n",
      " - body.bigrams: {'k1': 1.9100199633100623, 'b': 0.7336619962002098}\n",
      " - expansions: {'k1': 4.870954366799399, 'b': 0.9249613913608172}\n",
      " - expansions.bigrams: {'k1': 1.2, 'b': 0.75}\n"
     ]
    }
   ],
   "source": [
    "# use a local Elasticsearch or Cloud instance (https://cloud.elastic.co/)\n",
    "# es = Elasticsearch('http://localhost:9200')\n",
    "es = Elasticsearch('http://34.78.38.243:9200')\n",
    "\n",
    "# set the parallelization parameter `max_concurrent_searches` for the Rank Evaluation API calls\n",
    "max_concurrent_searches = 30\n",
    "\n",
    "index = 'msmarco-document.doc2query'\n",
    "template_id = 'query'\n",
    "\n",
    "# set best BM25 params\n",
    "set_bm25_params(es, index, [\n",
    "    ('url', {'k1': 0.33066956222950633, 'b': 0.9589101032169087}), # 0.2201\n",
    "    ('title', {'k1': 0.34885436112727763, 'b': 1.0}), # 0.2354\n",
    "    ('title.bigrams', {'k1': 1.2, 'b': 0.75}), # 0.1295\n",
    "    ('body', {'k1': 3.0128735487205525, 'b': 0.8200709176657588}), # 0.2645\n",
    "    ('body.bigrams', {'k1': 1.9100199633100623, 'b': 0.7336619962002098}), # 0.2045\n",
    "    ('expansions', {'k1': 4.870954366799399, 'b': 0.9249613913608172}), # 0.3220\n",
    "    ('expansions.bigrams', {'k1': 1.2, 'b': 0.75}) # 0.2837\n",
    "])\n",
    "\n",
    "# base template for tuning\n",
    "base_templates = [{\n",
    "    \"id\": template_id,\n",
    "    \"template\": {\n",
    "        \"lang\": \"mustache\",\n",
    "        \"source\": { \"query\": {} }\n",
    "    }\n",
    "}]\n",
    "\n",
    "def match_query(name):\n",
    "    return {\n",
    "        \"match\": {\n",
    "            name: {\n",
    "                \"query\": \"{{query_string}}\",\n",
    "                \"boost\": \"{{\" + name.replace('.', '_') + \"|boost}}\",\n",
    "            },\n",
    "        },\n",
    "    }"
   ]
  },
  {
   "cell_type": "markdown",
   "metadata": {},
   "source": [
    "## Experiments"
   ]
  },
  {
   "cell_type": "markdown",
   "metadata": {},
   "source": [
    "### Base fields"
   ]
  },
  {
   "cell_type": "code",
   "execution_count": 5,
   "metadata": {},
   "outputs": [],
   "source": [
    "_field_names = [\n",
    "    'url',\n",
    "    'title',\n",
    "    'body',\n",
    "]\n",
    "_templates = deepcopy(base_templates)\n",
    "_match_queries = [match_query(x) for x in _field_names]\n",
    "_templates[0]['template']['source']['query']['bool'] = { 'should': _match_queries }"
   ]
  },
  {
   "cell_type": "code",
   "execution_count": 6,
   "metadata": {},
   "outputs": [
    {
     "name": "stdout",
     "output_type": "stream",
     "text": [
      "Evaluation with: MRR@100\n",
      "Score: 0.2866\n",
      "CPU times: user 1.77 s, sys: 455 ms, total: 2.23 s\n",
      "Wall time: 2min 9s\n"
     ]
    }
   ],
   "source": [
    "%%time\n",
    "\n",
    "_ = evaluate_mrr100_dev_templated(es, max_concurrent_searches, index, _templates, template_id, params={\n",
    "    'url|boost': 1.0,\n",
    "    'title|boost': 1.0,\n",
    "    'body|boost': 1.0,\n",
    "})"
   ]
  },
  {
   "cell_type": "code",
   "execution_count": null,
   "metadata": {},
   "outputs": [
    {
     "name": "stdout",
     "output_type": "stream",
     "text": [
      "Optimizing parameters\n",
      " - metric: MRR@100\n",
      " - queries: data/msmarco-document-sampled-queries.1000.tsv\n",
      " - queries: data/msmarco/document/msmarco-doctrain-qrels.tsv\n",
      " > iteration 1/50, took 0:00:32 (remains: 0:26:47)\n",
      "   | 0.2653 (best: 0.2653) - {'url|boost': 2.4655500378357047, 'title|boost': 2.107829960621424, 'body|boost': 3.103734494692036}\n",
      " > iteration 2/50, took 0:00:20 (remains: 0:16:13)\n",
      "   | 0.2563 (best: 0.2653) - {'url|boost': 9.579021603479642, 'title|boost': 5.24245833820261, 'body|boost': 5.517848683453418}\n",
      " > iteration 3/50, took 0:00:17 (remains: 0:13:28)\n",
      "   | 0.2597 (best: 0.2653) - {'url|boost': 2.0496250657292063, 'title|boost': 9.994536752252772, 'body|boost': 5.763678016376662}\n",
      " > iteration 4/50, took 0:00:16 (remains: 0:12:45)\n",
      "   | 0.2479 (best: 0.2653) - {'url|boost': 0.13237918169020538, 'title|boost': 0.426157161134152, 'body|boost': 9.629915818745612}\n",
      " > iteration 5/50, took 0:00:21 (remains: 0:15:51)\n",
      "   | 0.2639 (best: 0.2653) - {'url|boost': 0.42700619900124753, 'title|boost': 8.030166341086698, 'body|boost': 3.9117577624858955}\n",
      " > iteration 6/50, took 0:00:08 (remains: 0:06:35)\n",
      "   | 0.2296 (best: 0.2653) - {'url|boost': 4.556794951046422, 'title|boost': 7.773364342036237, 'body|boost': 0.9097477407205014}\n",
      " > iteration 7/50, took 0:00:18 (remains: 0:13:01)\n",
      "   | 0.2699 (best: 0.2699) - {'url|boost': 2.800772629078559, 'title|boost': 2.326798001901525, 'body|boost': 5.743169011896471}\n",
      " > iteration 8/50, took 0:00:07 (remains: 0:05:10)\n",
      "   | 0.2303 (best: 0.2699) - {'url|boost': 0.5777354338144659, 'title|boost': 6.084480449900365, 'body|boost': 0.2693961076591867}\n",
      " > iteration 9/50, took 0:00:07 (remains: 0:05:19)\n",
      "   | 0.2287 (best: 0.2699) - {'url|boost': 8.306603998607216, 'title|boost': 8.939763167237228, 'body|boost': 1.1820314372525433}\n",
      " > iteration 10/50, took 0:00:13 (remains: 0:08:44)\n",
      "   | 0.2491 (best: 0.2699) - {'url|boost': 7.85314451472072, 'title|boost': 2.878357754220176, 'body|boost': 3.104337411476143}\n",
      " > iteration 11/50, took 0:00:17 (remains: 0:11:05)\n",
      "   | 0.2629 (best: 0.2699) - {'url|boost': 6.078264270206375, 'title|boost': 6.662947807527217, 'body|boost': 6.717423950332203}\n",
      " > iteration 12/50, took 0:00:11 (remains: 0:07:34)\n",
      "   | 0.2310 (best: 0.2699) - {'url|boost': 9.395668290598415, 'title|boost': 9.432611241010282, 'body|boost': 1.4467435390380892}\n",
      " > iteration 13/50, took 0:00:18 (remains: 0:11:27)\n",
      "   | 0.2715 (best: 0.2715) - {'url|boost': 1.408018150783791, 'title|boost': 1.8503552197887365, 'body|boost': 7.343860658830571}\n",
      " > iteration 14/50, took 0:00:17 (remains: 0:10:28)\n",
      "   | 0.2582 (best: 0.2715) - {'url|boost': 8.315266288754218, 'title|boost': 5.30522685637283, 'body|boost': 5.765369337542026}\n",
      " > iteration 15/50, took 0:00:09 (remains: 0:05:15)\n",
      "   | 0.2350 (best: 0.2715) - {'url|boost': 6.318898080758189, 'title|boost': 7.01514743201578, 'body|boost': 1.3014016108707773}\n",
      " > iteration 16/50, took 0:00:15 (remains: 0:08:42)\n",
      "   | 0.2529 (best: 0.2715) - {'url|boost': 7.068589561598655, 'title|boost': 0.7419865405143024, 'body|boost': 3.0487556553443333}\n",
      " > iteration 17/50, took 0:00:20 (remains: 0:11:32)\n",
      "   | 0.2625 (best: 0.2715) - {'url|boost': 7.828044333324835, 'title|boost': 7.982922741620049, 'body|boost': 7.931236616814995}\n",
      " > iteration 18/50, took 0:00:19 (remains: 0:10:31)\n",
      "   | 0.2662 (best: 0.2715) - {'url|boost': 8.297281918629189, 'title|boost': 5.717573661841638, 'body|boost': 9.661695964925824}\n",
      " > iteration 19/50, took 0:00:16 (remains: 0:08:18)\n",
      "   | 0.2483 (best: 0.2715) - {'url|boost': 5.990599913998885, 'title|boost': 2.804564732452785, 'body|boost': 2.1284594451645606}\n",
      " > iteration 20/50, took 0:00:22 (remains: 0:11:29)\n",
      "   | 0.2688 (best: 0.2715) - {'url|boost': 2.6634180196974016, 'title|boost': 9.238792795151976, 'body|boost': 9.546693515018093}\n",
      " > iteration 21/50, took 0:00:09 (remains: 0:04:41)\n",
      "   | 0.2407 (best: 0.2715) - {'url|boost': 0.0, 'title|boost': 0.0, 'body|boost': 4.522742797563552}\n",
      " > iteration 22/50, took 0:00:12 (remains: 0:06:03)\n",
      "   | 0.2737 (best: 0.2737) - {'url|boost': 0.0, 'title|boost': 3.352102507215377, 'body|boost': 10.0}\n",
      " > iteration 23/50, took 0:00:22 (remains: 0:09:55)\n",
      "   | 0.2759 (best: 0.2759) - {'url|boost': 0.0, 'title|boost': 7.356068193396096, 'body|boost': 10.0}\n",
      " > iteration 24/50, took 0:00:20 (remains: 0:08:42)\n",
      "   | 0.2643 (best: 0.2759) - {'url|boost': 10.0, 'title|boost': 2.6167667919541016, 'body|boost': 10.0}\n",
      " > iteration 25/50, took 0:00:19 (remains: 0:08:00)\n",
      "   | 0.2729 (best: 0.2759) - {'url|boost': 0.0, 'title|boost': 5.282046692970697, 'body|boost': 10.0}\n",
      " > iteration 26/50, took 0:00:20 (remains: 0:08:01)\n",
      "   | 0.2696 (best: 0.2759) - {'url|boost': 0.0, 'title|boost': 8.276802137359558, 'body|boost': 7.611062554477476}\n",
      " > iteration 27/50, took 0:00:13 (remains: 0:05:15)\n",
      "   | 0.2097 (best: 0.2759) - {'url|boost': 0.0, 'title|boost': 0.6601503417971408, 'body|boost': 0.0}\n",
      " > iteration 28/50, took 0:00:22 (remains: 0:08:17)\n",
      "   | 0.2703 (best: 0.2759) - {'url|boost': 3.4404033787822215, 'title|boost': 4.536375337425275, 'body|boost': 10.0}\n",
      " > iteration 29/50, took 0:00:19 (remains: 0:06:42)\n",
      "   | 0.2729 (best: 0.2759) - {'url|boost': 0.0, 'title|boost': 3.834547636088619, 'body|boost': 7.258289808242301}\n",
      " > iteration 30/50, took 0:00:16 (remains: 0:05:28)\n",
      "   | 0.2735 (best: 0.2759) - {'url|boost': 0.0, 'title|boost': 2.836922644824168, 'body|boost': 8.24604562164935}\n",
      " > iteration 31/50, took 0:00:20 (remains: 0:06:25)\n",
      "   | 0.2688 (best: 0.2759) - {'url|boost': 0.0, 'title|boost': 5.739103511336964, 'body|boost': 5.093098937107044}\n",
      " > iteration 32/50, took 0:00:21 (remains: 0:06:23)\n",
      "   | 0.2625 (best: 0.2759) - {'url|boost': 10.0, 'title|boost': 10.0, 'body|boost': 10.0}\n",
      " > iteration 33/50, took 0:00:20 (remains: 0:05:42)\n",
      "   | 0.2634 (best: 0.2759) - {'url|boost': 10.0, 'title|boost': 0.5542463342239206, 'body|boost': 7.249424719871511}\n",
      " > iteration 34/50, took 0:00:22 (remains: 0:06:01)\n",
      "   | 0.2725 (best: 0.2759) - {'url|boost': 0.5475568436042112, 'title|boost': 9.886540275804403, 'body|boost': 9.876803615088031}\n",
      " > iteration 35/50, took 0:00:19 (remains: 0:04:51)\n",
      "   | 0.2741 (best: 0.2759) - {'url|boost': 0.0, 'title|boost': 8.323533776422696, 'body|boost': 10.0}\n",
      " > iteration 36/50, took 0:00:21 (remains: 0:04:55)\n",
      "   | 0.2745 (best: 0.2759) - {'url|boost': 0.0, 'title|boost': 6.625786665169419, 'body|boost': 10.0}\n",
      " > iteration 37/50, took 0:00:19 (remains: 0:04:14)\n",
      "   | 0.2708 (best: 0.2759) - {'url|boost': 0.0, 'title|boost': 3.6994024639760443, 'body|boost': 4.003664379199845}\n",
      " > iteration 38/50, took 0:00:14 (remains: 0:02:59)\n",
      "   | 0.2759 (best: 0.2759) - {'url|boost': 0.0, 'title|boost': 2.373407770931073, 'body|boost': 5.167387216431255}\n",
      " > iteration 39/50, took 0:00:18 (remains: 0:03:22)\n",
      "   | 0.2742 (best: 0.2759) - {'url|boost': 0.0, 'title|boost': 2.80965642603826, 'body|boost': 5.729507729395368}\n",
      " > iteration 40/50, took 0:00:16 (remains: 0:02:43)\n",
      "   | 0.2740 (best: 0.2759) - {'url|boost': 0.0, 'title|boost': 1.881147774067523, 'body|boost': 5.32116582865}\n",
      " > iteration 41/50, took 0:00:23 (remains: 0:03:28)\n",
      "   | 0.2676 (best: 0.2759) - {'url|boost': 9.833327970371672, 'title|boost': 0.21562632450229605, 'body|boost': 9.855035453477937}\n",
      " > iteration 42/50, took 0:00:19 (remains: 0:02:33)\n",
      "   | 0.2737 (best: 0.2759) - {'url|boost': 0.0, 'title|boost': 2.4885750057607097, 'body|boost': 4.589703184592915}\n",
      " > iteration 43/50, took 0:00:21 (remains: 0:02:33)\n",
      "   | 0.2764 (best: 0.2764) - {'url|boost': 0.0, 'title|boost': 7.4224836373211005, 'body|boost': 10.0}\n",
      " > iteration 44/50, took 0:00:22 (remains: 0:02:13)\n",
      "   | 0.2764 (best: 0.2764) - {'url|boost': 0.0, 'title|boost': 7.440105571079309, 'body|boost': 10.0}\n",
      " > iteration 45/50, took 0:00:13 (remains: 0:01:06)\n",
      "   | 0.2281 (best: 0.2764) - {'url|boost': 0.1712761979725286, 'title|boost': 9.951037647668969, 'body|boost': 0.37954183708532546}\n",
      " > iteration 46/50, took 0:00:23 (remains: 0:01:34)\n",
      "   | 0.2718 (best: 0.2764) - {'url|boost': 2.045431013738626, 'title|boost': 7.378246273655503, 'body|boost': 10.0}\n"
     ]
    }
   ],
   "source": [
    "%%time\n",
    "\n",
    "_, _, final_params, metadata = optimize_query_mrr100_templated(es, max_concurrent_searches, index, _templates, template_id,\n",
    "    config_space=Config.parse({\n",
    "        'method': 'bayesian',\n",
    "        'num_iterations': 50,\n",
    "        'num_initial_points': 20,\n",
    "        'space': {\n",
    "            'url|boost': { 'low': 0.0, 'high': 10.0 },\n",
    "            'title|boost': { 'low': 0.0, 'high': 10.0 },\n",
    "            'body|boost': { 'low': 0.0, 'high': 10.0 },\n",
    "        }\n",
    "    }))"
   ]
  },
  {
   "cell_type": "code",
   "execution_count": null,
   "metadata": {},
   "outputs": [],
   "source": [
    "_ = plot_objective(metadata, sample_source='result')"
   ]
  },
  {
   "cell_type": "code",
   "execution_count": null,
   "metadata": {},
   "outputs": [],
   "source": [
    "%%time\n",
    "\n",
    "_ = evaluate_mrr100_dev_templated(es, max_concurrent_searches, index, _templates, template_id, params=final_params)"
   ]
  },
  {
   "cell_type": "code",
   "execution_count": null,
   "metadata": {},
   "outputs": [],
   "source": [
    "final_params"
   ]
  },
  {
   "cell_type": "markdown",
   "metadata": {},
   "source": [
    "### Base fields + bigrams"
   ]
  },
  {
   "cell_type": "code",
   "execution_count": null,
   "metadata": {},
   "outputs": [],
   "source": [
    "_field_names = [\n",
    "    'url',\n",
    "    'title', 'title.bigrams',\n",
    "    'body', 'body.bigrams',\n",
    "]\n",
    "_templates = deepcopy(base_templates)\n",
    "_match_queries = [match_query(x) for x in _field_names]\n",
    "_templates[0]['template']['source']['query']['bool'] = { 'should': _match_queries }"
   ]
  },
  {
   "cell_type": "code",
   "execution_count": null,
   "metadata": {},
   "outputs": [],
   "source": [
    "%%time\n",
    "\n",
    "_ = evaluate_mrr100_dev_templated(es, max_concurrent_searches, index, _templates, template_id, params={\n",
    "    'url|boost': 1.0,\n",
    "    'title|boost': 1.0,\n",
    "    'title_bigrams|boost': 1.0,\n",
    "    'body|boost': 1.0,\n",
    "    'body_bigrams|boost': 1.0,\n",
    "})"
   ]
  },
  {
   "cell_type": "code",
   "execution_count": null,
   "metadata": {},
   "outputs": [],
   "source": [
    "%%time\n",
    "\n",
    "_, _, final_params, metadata = optimize_query_mrr100_templated(es, max_concurrent_searches, index, _templates, template_id,\n",
    "    config_space=Config.parse({\n",
    "        'method': 'bayesian',\n",
    "        'num_iterations': 50,\n",
    "        'num_initial_points': 20,\n",
    "        'space': {\n",
    "            'url|boost': { 'low': 0.0, 'high': 10.0 },\n",
    "            'title|boost': { 'low': 0.0, 'high': 10.0 },\n",
    "            'title_bigrams|boost': { 'low': 0.0, 'high': 10.0 },\n",
    "            'body|boost': { 'low': 0.0, 'high': 10.0 },\n",
    "            'body_bigrams|boost': { 'low': 0.0, 'high': 10.0 },\n",
    "        }\n",
    "    }))"
   ]
  },
  {
   "cell_type": "code",
   "execution_count": null,
   "metadata": {},
   "outputs": [],
   "source": [
    "_ = plot_objective(metadata, sample_source='result')"
   ]
  },
  {
   "cell_type": "code",
   "execution_count": null,
   "metadata": {},
   "outputs": [],
   "source": [
    "%%time\n",
    "\n",
    "_ = evaluate_mrr100_dev_templated(es, max_concurrent_searches, index, _templates, template_id, params=final_params)"
   ]
  },
  {
   "cell_type": "code",
   "execution_count": null,
   "metadata": {},
   "outputs": [],
   "source": [
    "final_params"
   ]
  },
  {
   "cell_type": "markdown",
   "metadata": {},
   "source": [
    "### Base fields + expansions"
   ]
  },
  {
   "cell_type": "code",
   "execution_count": null,
   "metadata": {},
   "outputs": [],
   "source": [
    "_field_names = [\n",
    "    'url',\n",
    "    'title',\n",
    "    'body',\n",
    "    'expansions',\n",
    "]\n",
    "_templates = deepcopy(base_templates)\n",
    "_match_queries = [match_query(x) for x in _field_names]\n",
    "_templates[0]['template']['source']['query']['bool'] = { 'should': _match_queries }"
   ]
  },
  {
   "cell_type": "code",
   "execution_count": null,
   "metadata": {},
   "outputs": [],
   "source": [
    "%%time\n",
    "\n",
    "_ = evaluate_mrr100_dev_templated(es, max_concurrent_searches, index, _templates, template_id, params={\n",
    "    'url|boost': 1.0,\n",
    "    'title|boost': 1.0,\n",
    "    'body|boost': 1.0,\n",
    "    'expansions|boost': 1.0,\n",
    "})"
   ]
  },
  {
   "cell_type": "code",
   "execution_count": null,
   "metadata": {},
   "outputs": [],
   "source": [
    "%%time\n",
    "\n",
    "_, _, final_params, metadata = optimize_query_mrr100_templated(es, max_concurrent_searches, index, _templates, template_id,\n",
    "    config_space=Config.parse({\n",
    "        'method': 'bayesian',\n",
    "        'num_iterations': 50,\n",
    "        'num_initial_points': 20,\n",
    "        'space': {\n",
    "            'url|boost': { 'low': 0.0, 'high': 10.0 },\n",
    "            'title|boost': { 'low': 0.0, 'high': 10.0 },\n",
    "            'body|boost': { 'low': 0.0, 'high': 10.0 },\n",
    "            'expansions|boost': { 'low': 0.0, 'high': 10.0 },\n",
    "        }\n",
    "    }))"
   ]
  },
  {
   "cell_type": "code",
   "execution_count": null,
   "metadata": {},
   "outputs": [],
   "source": [
    "_ = plot_objective(metadata, sample_source='result')"
   ]
  },
  {
   "cell_type": "code",
   "execution_count": null,
   "metadata": {},
   "outputs": [],
   "source": [
    "%%time\n",
    "\n",
    "_ = evaluate_mrr100_dev_templated(es, max_concurrent_searches, index, _templates, template_id, params=final_params)"
   ]
  },
  {
   "cell_type": "code",
   "execution_count": null,
   "metadata": {},
   "outputs": [],
   "source": [
    "final_params"
   ]
  },
  {
   "cell_type": "markdown",
   "metadata": {},
   "source": [
    "### Base fields + expansions + bigrams"
   ]
  },
  {
   "cell_type": "code",
   "execution_count": null,
   "metadata": {},
   "outputs": [],
   "source": [
    "_field_names = [\n",
    "    'url',\n",
    "    'title', 'title.bigrams',\n",
    "    'body', 'body.bigrams',\n",
    "    'expansions', 'expansions.bigrams',\n",
    "]\n",
    "_templates = deepcopy(base_templates)\n",
    "_match_queries = [match_query(x) for x in _field_names]\n",
    "_templates[0]['template']['source']['query']['bool'] = { 'should': _match_queries }"
   ]
  },
  {
   "cell_type": "code",
   "execution_count": null,
   "metadata": {},
   "outputs": [],
   "source": [
    "%%time\n",
    "\n",
    "_ = evaluate_mrr100_dev_templated(es, max_concurrent_searches, index, _templates, template_id, params={\n",
    "    'url|boost': 1.0,\n",
    "    'title|boost': 1.0,\n",
    "    'title_bigrams|boost': 1.0,\n",
    "    'body|boost': 1.0,\n",
    "    'body_bigrams|boost': 1.0,\n",
    "    'expansions|boost': 1.0,\n",
    "    'expansions_bigrams|boost': 1.0\n",
    "})"
   ]
  },
  {
   "cell_type": "code",
   "execution_count": null,
   "metadata": {},
   "outputs": [],
   "source": [
    "%%time\n",
    "\n",
    "_, _, final_params, metadata = optimize_query_mrr100_templated(es, max_concurrent_searches, index, _templates, template_id,\n",
    "    config_space=Config.parse({\n",
    "        'method': 'bayesian',\n",
    "        'num_iterations': 50,\n",
    "        'num_initial_points': 20,\n",
    "        'space': {\n",
    "            'url|boost': { 'low': 0.0, 'high': 10.0 },\n",
    "            'title|boost': { 'low': 0.0, 'high': 10.0 },\n",
    "            'title_bigrams|boost': { 'low': 0.0, 'high': 10.0 },\n",
    "            'body|boost': { 'low': 0.0, 'high': 10.0 },\n",
    "            'body_bigrams|boost': { 'low': 0.0, 'high': 10.0 },\n",
    "            'expansions|boost': { 'low': 0.0, 'high': 10.0 },\n",
    "            'expansions_bigrams|boost': { 'low': 0.0, 'high': 10.0 },\n",
    "        }\n",
    "    }))"
   ]
  },
  {
   "cell_type": "code",
   "execution_count": null,
   "metadata": {},
   "outputs": [],
   "source": [
    "_ = plot_objective(metadata, sample_source='result')"
   ]
  },
  {
   "cell_type": "code",
   "execution_count": null,
   "metadata": {},
   "outputs": [],
   "source": [
    "%%time\n",
    "\n",
    "_ = evaluate_mrr100_dev_templated(es, max_concurrent_searches, index, _templates, template_id, params=final_params)"
   ]
  },
  {
   "cell_type": "code",
   "execution_count": null,
   "metadata": {},
   "outputs": [],
   "source": [
    "final_params"
   ]
  },
  {
   "cell_type": "code",
   "execution_count": null,
   "metadata": {},
   "outputs": [],
   "source": [
    "## with 100/20 iterations\n",
    "## 0.3412\n",
    "\n",
    "{\n",
    "    'url|boost': 6.831285778689427,\n",
    "    'title|boost': 0.0,\n",
    "    'title_bigrams|boost': 0.0,\n",
    "    'body|boost': 10.0,\n",
    "    'body_bigrams|boost': 10.0,\n",
    "    'expansions|boost': 10.0,\n",
    "    'expansions_bigrams|boost': 3.348671601852749\n",
    "}"
   ]
  },
  {
   "cell_type": "markdown",
   "metadata": {},
   "source": [
    "### Selective fields\n",
    "\n",
    "Based on the results from above, remove fields with `0` boost values."
   ]
  },
  {
   "cell_type": "code",
   "execution_count": null,
   "metadata": {},
   "outputs": [],
   "source": [
    "_field_names = [\n",
    "    'url',\n",
    "    'body', 'body.bigrams',\n",
    "    'expansions', 'expansions.bigrams',\n",
    "]\n",
    "_templates = deepcopy(base_templates)\n",
    "_match_queries = [match_query(x) for x in _field_names]\n",
    "_templates[0]['template']['source']['query']['bool'] = { 'should': _match_queries }"
   ]
  },
  {
   "cell_type": "code",
   "execution_count": null,
   "metadata": {},
   "outputs": [],
   "source": [
    "%%time\n",
    "\n",
    "_ = evaluate_mrr100_dev_templated(es, max_concurrent_searches, index, _templates, template_id, params={\n",
    "    'url|boost': 1.0,\n",
    "    'body|boost': 1.0,\n",
    "    'body_bigrams|boost': 1.0,\n",
    "    'expansions|boost': 1.0,\n",
    "    'expansions_bigrams|boost': 1.0\n",
    "})"
   ]
  },
  {
   "cell_type": "code",
   "execution_count": null,
   "metadata": {},
   "outputs": [],
   "source": [
    "%%time\n",
    "\n",
    "_, _, final_params, metadata = optimize_query_mrr100_templated(es, max_concurrent_searches, index, _templates, template_id,\n",
    "    config_space=Config.parse({\n",
    "        'method': 'bayesian',\n",
    "        'num_iterations': 50,\n",
    "        'num_initial_points': 20,\n",
    "        'space': {\n",
    "            'url|boost': { 'low': 0.0, 'high': 10.0 },\n",
    "            'body|boost': { 'low': 0.0, 'high': 10.0 },\n",
    "            'body_bigrams|boost': { 'low': 0.0, 'high': 10.0 },\n",
    "            'expansions|boost': { 'low': 0.0, 'high': 10.0 },\n",
    "            'expansions_bigrams|boost': { 'low': 0.0, 'high': 10.0 },\n",
    "        }\n",
    "    }))"
   ]
  },
  {
   "cell_type": "code",
   "execution_count": null,
   "metadata": {},
   "outputs": [],
   "source": [
    "_ = plot_objective(metadata, sample_source='result')"
   ]
  },
  {
   "cell_type": "code",
   "execution_count": null,
   "metadata": {},
   "outputs": [],
   "source": [
    "%%time\n",
    "\n",
    "_ = evaluate_mrr100_dev_templated(es, max_concurrent_searches, index, _templates, template_id, params=final_params)"
   ]
  },
  {
   "cell_type": "code",
   "execution_count": null,
   "metadata": {},
   "outputs": [],
   "source": [
    "final_params"
   ]
  },
  {
   "cell_type": "code",
   "execution_count": null,
   "metadata": {},
   "outputs": [],
   "source": [
    "# with 50/20 iterations\n",
    "# 0.3415\n",
    "\n",
    "{\n",
    "    'url|boost': 5.906335138830406,\n",
    "    'body|boost': 7.285007082865544,\n",
    "    'body_bigrams|boost': 0.1561216257683724,\n",
    "    'expansions|boost': 9.922407448775347,\n",
    "    'expansions_bigrams|boost': 4.5189511755570635\n",
    "}"
   ]
  }
 ],
 "metadata": {
  "kernelspec": {
   "display_name": "Python 3",
   "language": "python",
   "name": "python3"
  },
  "language_info": {
   "codemirror_mode": {
    "name": "ipython",
    "version": 3
   },
   "file_extension": ".py",
   "mimetype": "text/x-python",
   "name": "python",
   "nbconvert_exporter": "python",
   "pygments_lexer": "ipython3",
   "version": "3.7.7"
  }
 },
 "nbformat": 4,
 "nbformat_minor": 4
}
